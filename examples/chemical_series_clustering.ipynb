{
 "cells": [
  {
   "cell_type": "markdown",
   "metadata": {},
   "source": [
    "# Introduction"
   ]
  },
  {
   "cell_type": "markdown",
   "metadata": {},
   "source": [
    "# Imports"
   ]
  },
  {
   "cell_type": "code",
   "execution_count": null,
   "metadata": {},
   "outputs": [],
   "source": [
    "from pathlib import Path\n",
    "from harbor.plotting.ligands import plot_aligned_ligands"
   ]
  },
  {
   "cell_type": "markdown",
   "metadata": {},
   "source": [
    "In order to avoiding having this repo depend directly on the asapdiscovery repo, I'm going to comment this out, but we'll use a test example from the covid moonshot molecules:\n",
    "```\n",
    "from asapdiscovery.data.testing.test_resources import fetch_test_file\n",
    "mypath = fetch_test_file(\"Mpro_combined_labeled.sdf\")\n",
    "``` "
   ]
  },
  {
   "cell_type": "code",
   "execution_count": null,
   "metadata": {},
   "outputs": [],
   "source": [
    "mypath = Path(\"../data/Mpro_combined_labeled.sdf\")"
   ]
  },
  {
   "cell_type": "markdown",
   "metadata": {},
   "source": [
    "I'm copying this code from the asapdiscovery repo.\n",
    "Once that is conda installable, I'll make that a dep of this repo and use those tools for loading molecules"
   ]
  },
  {
   "cell_type": "markdown",
   "metadata": {},
   "source": [
    "# Load Molecules"
   ]
  },
  {
   "cell_type": "code",
   "execution_count": null,
   "metadata": {},
   "outputs": [],
   "source": [
    "from rdkit import Chem\n",
    "mols = Chem.SDMolSupplier(str(mypath))"
   ]
  },
  {
   "cell_type": "code",
   "execution_count": null,
   "metadata": {},
   "outputs": [],
   "source": [
    "mols = [mol for mol in mols]"
   ]
  },
  {
   "cell_type": "code",
   "execution_count": null,
   "metadata": {},
   "outputs": [],
   "source": [
    "import mols2grid"
   ]
  },
  {
   "cell_type": "code",
   "execution_count": null,
   "metadata": {},
   "outputs": [],
   "source": [
    "# define the grid to show the scaffolds\n",
    "grid = mols2grid.display(mols)"
   ]
  },
  {
   "cell_type": "code",
   "execution_count": null,
   "metadata": {},
   "outputs": [],
   "source": [
    "grid"
   ]
  },
  {
   "cell_type": "markdown",
   "source": [
    "# MCSS-based Clustering"
   ],
   "metadata": {
    "collapsed": false
   }
  },
  {
   "cell_type": "code",
   "outputs": [],
   "source": [
    "from harbor.clustering.hierarchical import ClusterResults, ClusterCenter, HeirarchicalClustering\n",
    "from openeye import oechem"
   ],
   "metadata": {
    "collapsed": false
   },
   "execution_count": null
  },
  {
   "cell_type": "code",
   "outputs": [],
   "source": [
    "mol: Chem.Mol = mols[0]\n",
    "mol.GetPropsAsDict()"
   ],
   "metadata": {
    "collapsed": false
   },
   "execution_count": null
  },
  {
   "cell_type": "code",
   "outputs": [],
   "source": [
    "oemols = []\n",
    "mol_ids = []\n",
    "for rdkit_mol in mols[:20]:\n",
    "    smiles = Chem.MolToSmiles(rdkit_mol)\n",
    "    properties = rdkit_mol.GetPropsAsDict()\n",
    "    mol_ids.append(properties[\"Compound_ID\"])\n",
    "    mol = oechem.OEMol()\n",
    "    oechem.OESmilesToMol(mol, smiles)\n",
    "    oemols.append(mol)"
   ],
   "metadata": {
    "collapsed": false
   },
   "execution_count": null
  },
  {
   "cell_type": "code",
   "outputs": [],
   "source": [
    "from harbor.clustering import hierarchical as h\n",
    "from importlib import reload\n",
    "reload(h)"
   ],
   "metadata": {
    "collapsed": false
   },
   "execution_count": null
  },
  {
   "cell_type": "code",
   "outputs": [],
   "source": [
    "clusterer = h.HeirarchicalClustering(molecules=oemols, mol_ids=mol_ids)"
   ],
   "metadata": {
    "collapsed": false
   },
   "execution_count": null
  },
  {
   "cell_type": "code",
   "outputs": [],
   "source": [
    "clusters = clusterer.cluster(max_iterations=10)"
   ],
   "metadata": {
    "collapsed": false
   },
   "execution_count": null
  },
  {
   "cell_type": "code",
   "outputs": [],
   "source": [
    "len(clusters)"
   ],
   "metadata": {
    "collapsed": false
   },
   "execution_count": null
  },
  {
   "cell_type": "code",
   "outputs": [],
   "source": [
    "def get_descendents(cluster):\n",
    "    descendents = []\n",
    "    for child in cluster.children:\n",
    "        if isinstance(child, str):\n",
    "            descendents.append(cluster)\n",
    "        else:\n",
    "            descendents.extend(get_descendents(child))\n",
    "    return descendents"
   ],
   "metadata": {
    "collapsed": false
   },
   "execution_count": null
  },
  {
   "cell_type": "code",
   "outputs": [],
   "source": [
    "from harbor.plotting import ligands as l\n",
    "reload(l)"
   ],
   "metadata": {
    "collapsed": false
   },
   "execution_count": null
  },
  {
   "cell_type": "code",
   "outputs": [],
   "source": [
    "ids_found = []\n",
    "for cluster_id, cluster in clusters.items():\n",
    "    print(f\"Cluster {cluster_id}\")\n",
    "    descendents = get_descendents(cluster)\n",
    "    print(f\"Children: {len(descendents)}\")\n",
    "    l.plot_ligands_with_mcs(filename=f\"cluster_{cluster_id}.png\", mols=[desc.repr for desc in descendents], mcs_mol=cluster.repr)\n",
    "    ids_found.extend([desc.children[0] for desc in descendents])"
   ],
   "metadata": {
    "collapsed": false
   },
   "execution_count": null
  },
  {
   "cell_type": "code",
   "outputs": [],
   "source": [
    "set(ids_found)"
   ],
   "metadata": {
    "collapsed": false
   },
   "execution_count": null
  },
  {
   "cell_type": "code",
   "outputs": [],
   "source": [
    "set(mol_ids) - set(ids_found)"
   ],
   "metadata": {
    "collapsed": false
   },
   "execution_count": null
  },
  {
   "cell_type": "code",
   "outputs": [],
   "source": [
    "def get_row_col(i, max_cols, zero_indexed=True):\n",
    "    row = i // max_cols + (0 if zero_indexed else 1)\n",
    "    col = i % max_cols + (0 if zero_indexed else 1)\n",
    "    return row, col"
   ],
   "metadata": {
    "collapsed": false
   },
   "execution_count": null
  },
  {
   "cell_type": "code",
   "outputs": [],
   "source": [
    "for i in range(6):\n",
    "    print(get_row_col(i, 4, zero_indexed=False))"
   ],
   "metadata": {
    "collapsed": false
   },
   "execution_count": null
  },
  {
   "cell_type": "code",
   "outputs": [],
   "source": [],
   "metadata": {
    "collapsed": false
   }
  }
 ],
 "metadata": {
  "kernelspec": {
   "display_name": "Python 3 (ipykernel)",
   "language": "python",
   "name": "python3"
  },
  "language_info": {
   "codemirror_mode": {
    "name": "ipython",
    "version": 3
   },
   "file_extension": ".py",
   "mimetype": "text/x-python",
   "name": "python",
   "nbconvert_exporter": "python",
   "pygments_lexer": "ipython3",
   "version": "3.10.14"
  }
 },
 "nbformat": 4,
 "nbformat_minor": 4
}
