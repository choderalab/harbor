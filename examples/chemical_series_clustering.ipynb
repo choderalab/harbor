{
 "cells": [
  {
   "cell_type": "markdown",
   "metadata": {},
   "source": [
    "# Introduction"
   ]
  },
  {
   "cell_type": "markdown",
   "metadata": {},
   "source": [
    "# Imports"
   ]
  },
  {
   "cell_type": "code",
   "execution_count": null,
   "metadata": {
    "ExecuteTime": {
     "end_time": "2024-04-30T18:48:26.376271Z",
     "start_time": "2024-04-30T18:48:24.931943Z"
    }
   },
   "outputs": [],
   "source": [
    "from pathlib import Path\n",
    "from harbor.plotting.ligands import plot_aligned_ligands"
   ]
  },
  {
   "cell_type": "markdown",
   "metadata": {},
   "source": [
    "In order to avoiding having this repo depend directly on the asapdiscovery repo, I'm going to comment this out, but we'll use a test example from the covid moonshot molecules:\n",
    "```\n",
    "from asapdiscovery.data.testing.test_resources import fetch_test_file\n",
    "mypath = fetch_test_file(\"Mpro_combined_labeled.sdf\")\n",
    "``` "
   ]
  },
  {
   "cell_type": "code",
   "execution_count": null,
   "metadata": {
    "ExecuteTime": {
     "end_time": "2024-04-30T18:48:26.384990Z",
     "start_time": "2024-04-30T18:48:26.379932Z"
    }
   },
   "outputs": [],
   "source": [
    "mypath = Path(\"../data/Mpro_combined_labeled.sdf\")"
   ]
  },
  {
   "cell_type": "markdown",
   "metadata": {
    "collapsed": false
   },
   "source": [
    "## use p-series curated subset"
   ]
  },
  {
   "cell_type": "code",
   "execution_count": null,
   "metadata": {
    "ExecuteTime": {
     "end_time": "2024-04-30T19:07:38.655042Z",
     "start_time": "2024-04-30T19:07:38.633449Z"
    },
    "collapsed": false
   },
   "outputs": [],
   "source": [
    "mypath = Path(\"../data/combined_3d.sdf\")"
   ]
  },
  {
   "cell_type": "markdown",
   "metadata": {},
   "source": [
    "I'm copying this code from the asapdiscovery repo.\n",
    "Once that is conda installable, I'll make that a dep of this repo and use those tools for loading molecules"
   ]
  },
  {
   "cell_type": "markdown",
   "metadata": {},
   "source": [
    "# Load Molecules"
   ]
  },
  {
   "cell_type": "code",
   "execution_count": null,
   "metadata": {
    "ExecuteTime": {
     "end_time": "2024-04-30T18:48:32.085607Z",
     "start_time": "2024-04-30T18:48:28.613800Z"
    }
   },
   "outputs": [],
   "source": [
    "from rdkit import Chem\n",
    "mols = Chem.SDMolSupplier(str(mypath))"
   ]
  },
  {
   "cell_type": "code",
   "execution_count": null,
   "metadata": {
    "ExecuteTime": {
     "end_time": "2024-04-30T18:48:32.181382Z",
     "start_time": "2024-04-30T18:48:32.088147Z"
    }
   },
   "outputs": [],
   "source": [
    "mols = [mol for mol in mols]"
   ]
  },
  {
   "cell_type": "code",
   "execution_count": null,
   "metadata": {
    "ExecuteTime": {
     "end_time": "2024-04-30T18:48:34.532578Z",
     "start_time": "2024-04-30T18:48:32.182750Z"
    }
   },
   "outputs": [],
   "source": [
    "import mols2grid"
   ]
  },
  {
   "cell_type": "code",
   "execution_count": null,
   "metadata": {
    "ExecuteTime": {
     "end_time": "2024-04-30T18:48:36.817468Z",
     "start_time": "2024-04-30T18:48:34.535230Z"
    }
   },
   "outputs": [],
   "source": [
    "# define the grid to show the scaffolds\n",
    "grid = mols2grid.display(mols)"
   ]
  },
  {
   "cell_type": "code",
   "execution_count": null,
   "metadata": {
    "ExecuteTime": {
     "end_time": "2024-04-30T18:48:36.834473Z",
     "start_time": "2024-04-30T18:48:36.819136Z"
    }
   },
   "outputs": [],
   "source": [
    "grid"
   ]
  },
  {
   "cell_type": "markdown",
   "metadata": {
    "collapsed": false
   },
   "source": [
    "# MCSS-based Clustering"
   ]
  },
  {
   "cell_type": "code",
   "execution_count": null,
   "metadata": {
    "ExecuteTime": {
     "end_time": "2024-04-30T18:48:40.233231Z",
     "start_time": "2024-04-30T18:48:39.865045Z"
    },
    "collapsed": false
   },
   "outputs": [],
   "source": [
    "from harbor.clustering.hierarchical import ClusterResults, ClusterCenter, HeirarchicalClustering\n",
    "from openeye import oechem"
   ]
  },
  {
   "cell_type": "code",
   "execution_count": null,
   "metadata": {
    "ExecuteTime": {
     "end_time": "2024-04-30T18:48:40.753354Z",
     "start_time": "2024-04-30T18:48:40.741307Z"
    },
    "collapsed": false
   },
   "outputs": [],
   "source": [
    "mol: Chem.Mol = mols[0]\n",
    "mol.GetPropsAsDict()"
   ]
  },
  {
   "cell_type": "code",
   "execution_count": null,
   "metadata": {
    "ExecuteTime": {
     "end_time": "2024-04-30T18:49:07.026418Z",
     "start_time": "2024-04-30T18:49:05.535525Z"
    },
    "collapsed": false
   },
   "outputs": [],
   "source": [
    "oemols = []\n",
    "mol_ids = []\n",
    "for rdkit_mol in mols:\n",
    "    smiles = Chem.MolToSmiles(rdkit_mol)\n",
    "    properties = rdkit_mol.GetPropsAsDict()\n",
    "    mol_ids.append(properties[\"compound_name\"])\n",
    "    mol = oechem.OEMol()\n",
    "    oechem.OESmilesToMol(mol, smiles)\n",
    "    oemols.append(mol)"
   ]
  },
  {
   "cell_type": "code",
   "execution_count": null,
   "metadata": {
    "ExecuteTime": {
     "end_time": "2024-04-30T18:49:08.230312Z",
     "start_time": "2024-04-30T18:49:08.215660Z"
    },
    "collapsed": false
   },
   "outputs": [],
   "source": [
    "from harbor.clustering import hierarchical as h\n",
    "from importlib import reload\n",
    "reload(h)"
   ]
  },
  {
   "cell_type": "code",
   "execution_count": null,
   "metadata": {
    "ExecuteTime": {
     "end_time": "2024-04-30T18:49:08.998130Z",
     "start_time": "2024-04-30T18:49:08.994552Z"
    },
    "collapsed": false
   },
   "outputs": [],
   "source": [
    "clusterer = h.HeirarchicalClustering(molecules=oemols, mol_ids=mol_ids)"
   ]
  },
  {
   "cell_type": "code",
   "execution_count": null,
   "metadata": {},
   "outputs": [],
   "source": [
    "clusterer"
   ]
  },
  {
   "cell_type": "code",
   "execution_count": null,
   "metadata": {
    "ExecuteTime": {
     "end_time": "2024-04-30T19:07:38.608476Z",
     "start_time": "2024-04-30T18:49:09.795517Z"
    },
    "collapsed": false
   },
   "outputs": [],
   "source": [
    "clusters = clusterer.cluster(max_iterations=50, cutoff=15)"
   ]
  },
  {
   "cell_type": "code",
   "execution_count": null,
   "metadata": {
    "ExecuteTime": {
     "end_time": "2024-04-30T19:43:43.715336Z",
     "start_time": "2024-04-30T19:43:43.711334Z"
    },
    "collapsed": false
   },
   "outputs": [],
   "source": [
    "def get_descendents(cluster):\n",
    "    descendents = []\n",
    "    for child in cluster.children:\n",
    "        if isinstance(child, str):\n",
    "            descendents.append(cluster)\n",
    "        else:\n",
    "            descendents.extend(get_descendents(child))\n",
    "    return descendents"
   ]
  },
  {
   "cell_type": "code",
   "execution_count": null,
   "metadata": {
    "ExecuteTime": {
     "end_time": "2024-04-30T19:43:44.861247Z",
     "start_time": "2024-04-30T19:43:44.848488Z"
    },
    "collapsed": false
   },
   "outputs": [],
   "source": [
    "from harbor.plotting import ligands as l\n",
    "reload(l)"
   ]
  },
  {
   "cell_type": "code",
   "execution_count": null,
   "metadata": {
    "ExecuteTime": {
     "end_time": "2024-04-30T19:43:45.066801Z",
     "start_time": "2024-04-30T19:43:45.062392Z"
    }
   },
   "outputs": [],
   "source": [
    "clusters.keys()"
   ]
  },
  {
   "cell_type": "code",
   "execution_count": null,
   "metadata": {
    "ExecuteTime": {
     "end_time": "2024-04-30T19:43:47.017548Z",
     "start_time": "2024-04-30T19:43:47.012889Z"
    }
   },
   "outputs": [],
   "source": [
    "len(mol_ids)"
   ]
  },
  {
   "cell_type": "code",
   "execution_count": null,
   "metadata": {
    "ExecuteTime": {
     "end_time": "2024-04-30T19:43:47.882333Z",
     "start_time": "2024-04-30T19:43:47.877867Z"
    }
   },
   "outputs": [],
   "source": [
    "len(set(mol_ids))"
   ]
  },
  {
   "cell_type": "code",
   "execution_count": null,
   "metadata": {},
   "outputs": [],
   "source": [
    "children = {desc.cluster_id: desc for cluster_id, cluster in clusters.items() for desc in cluster.children}"
   ]
  },
  {
   "cell_type": "code",
   "execution_count": null,
   "metadata": {},
   "outputs": [],
   "source": [
    "grandchildren = {desc.cluster_id: desc for cluster_id, cluster in children.items() for desc in cluster.children}"
   ]
  },
  {
   "cell_type": "code",
   "execution_count": null,
   "metadata": {},
   "outputs": [],
   "source": [
    "greatgrandchildren= {desc.cluster_id: desc for cluster_id, cluster in grandchildren.items() for desc in cluster.children}"
   ]
  },
  {
   "cell_type": "code",
   "execution_count": null,
   "metadata": {},
   "outputs": [],
   "source": [
    "greatgreatgrandchildren = {desc.cluster_id: desc for cluster_id, cluster in greatgrandchildren.items() for desc in cluster.children if not cluster.height == 0}"
   ]
  },
  {
   "cell_type": "code",
   "execution_count": null,
   "metadata": {},
   "outputs": [],
   "source": [
    "l5 = {desc.cluster_id: desc for cluster_id, cluster in greatgreatgrandchildren.items() for desc in cluster.children if not cluster.height == 0}"
   ]
  },
  {
   "cell_type": "code",
   "execution_count": null,
   "metadata": {},
   "outputs": [],
   "source": [
    "current_level_clusters = {desc.cluster_id: desc for cluster_id, cluster in l5.items() for desc in cluster.children if not cluster.height == 0}"
   ]
  },
  {
   "cell_type": "code",
   "execution_count": null,
   "metadata": {
    "ExecuteTime": {
     "end_time": "2024-04-30T19:44:22.613757Z",
     "start_time": "2024-04-30T19:43:53.862105Z"
    },
    "collapsed": false
   },
   "outputs": [],
   "source": [
    "for i in range(6, 19):\n",
    "    current_level_clusters = {desc.cluster_id: desc for cluster_id, cluster in current_level_clusters.items() for desc in cluster.children if not cluster.height == 0}\n",
    "    ids_found = []\n",
    "    for cluster_id, cluster in l6.items():\n",
    "        print(f\"Cluster {cluster_id}\")\n",
    "        descendents, _, _ = get_descendents(cluster)\n",
    "        print(f\"Children: {len(descendents)}\")\n",
    "        mols = []\n",
    "        for desc in descendents:\n",
    "            mol = desc.repr\n",
    "            mol.SetTitle(desc.children[0])\n",
    "            mols.append(mol)\n",
    "        l.plot_ligands_with_mcs(filename=f\"cluster_{cluster_id}.png\", mols=mols, mcs_mol=cluster.repr, reference=\"largest\")\n",
    "        ids_found.extend([desc.children[0] for desc in descendents])"
   ]
  },
  {
   "cell_type": "code",
   "execution_count": null,
   "metadata": {
    "ExecuteTime": {
     "end_time": "2024-04-30T19:44:22.619296Z",
     "start_time": "2024-04-30T19:44:22.616257Z"
    }
   },
   "outputs": [],
   "source": [
    "total_mols_found = []\n",
    "for cluster_id, cluster in greatgreatgrandchildren.items():\n",
    "    total_mols_found.extend([desc.children[0] for desc in get_descendents(cluster)])"
   ]
  },
  {
   "cell_type": "code",
   "execution_count": null,
   "metadata": {},
   "outputs": [],
   "source": [
    "greatgreatgrandchildren.keys()"
   ]
  },
  {
   "cell_type": "code",
   "execution_count": null,
   "metadata": {
    "ExecuteTime": {
     "end_time": "2024-04-30T19:44:22.625437Z",
     "start_time": "2024-04-30T19:44:22.620958Z"
    }
   },
   "outputs": [],
   "source": [
    "len(total_mols_found)"
   ]
  },
  {
   "cell_type": "code",
   "execution_count": null,
   "metadata": {
    "ExecuteTime": {
     "end_time": "2024-04-30T19:44:22.632148Z",
     "start_time": "2024-04-30T19:44:22.627852Z"
    }
   },
   "outputs": [],
   "source": [
    "len(set(total_mols_found))"
   ]
  },
  {
   "cell_type": "code",
   "execution_count": null,
   "metadata": {
    "ExecuteTime": {
     "end_time": "2024-04-30T19:44:22.638702Z",
     "start_time": "2024-04-30T19:44:22.633982Z"
    },
    "collapsed": false
   },
   "outputs": [],
   "source": [
    "set(ids_found)"
   ]
  },
  {
   "cell_type": "code",
   "execution_count": null,
   "metadata": {
    "ExecuteTime": {
     "end_time": "2024-04-30T19:44:22.651669Z",
     "start_time": "2024-04-30T19:44:22.640298Z"
    }
   },
   "outputs": [],
   "source": [
    "set(mol_ids) - set(ids_found)"
   ]
  },
  {
   "cell_type": "code",
   "execution_count": null,
   "metadata": {},
   "outputs": [],
   "source": [
    "# Try building a graph"
   ]
  },
  {
   "cell_type": "code",
   "execution_count": null,
   "metadata": {},
   "outputs": [],
   "source": [
    "def get_descendents(cluster):\n",
    "    descendents = []\n",
    "    full_cluster_dict = {}\n",
    "    pairs = []\n",
    "    heights = []\n",
    "\n",
    "    if cluster.height > 0:\n",
    "        pairs.append([child.cluster_id for child in cluster.children])\n",
    "        heights.append(cluster.height)\n",
    "    \n",
    "    for child in cluster.children:\n",
    "\n",
    "        if isinstance(child, str):\n",
    "            descendents.append(cluster)\n",
    "            full_cluster_dict[child] = cluster\n",
    "        else:\n",
    "            childrens_descendents, childrens_full_cluster_dict, childrens_pairs, childrens_heights = get_descendents(child)\n",
    "            descendents.extend(childrens_descendents)\n",
    "            full_cluster_dict[child.cluster_id] = child\n",
    "            full_cluster_dict.update(childrens_full_cluster_dict)\n",
    "            pairs.extend(childrens_pairs)\n",
    "            heights.extend(childrens_heights)\n",
    "    return descendents, full_cluster_dict, pairs, heights"
   ]
  },
  {
   "cell_type": "code",
   "execution_count": null,
   "metadata": {},
   "outputs": [],
   "source": [
    "desc, id_dict, pairs, heights = get_descendents(clusters['19_0'])"
   ]
  },
  {
   "cell_type": "code",
   "execution_count": null,
   "metadata": {},
   "outputs": [],
   "source": [
    "clusters['19_0'].height"
   ]
  },
  {
   "cell_type": "code",
   "execution_count": null,
   "metadata": {},
   "outputs": [],
   "source": [
    "len(desc)"
   ]
  },
  {
   "cell_type": "code",
   "execution_count": null,
   "metadata": {},
   "outputs": [],
   "source": [
    "len(set(id_list))"
   ]
  },
  {
   "cell_type": "code",
   "execution_count": null,
   "metadata": {},
   "outputs": [],
   "source": [
    "len(id_list)"
   ]
  },
  {
   "cell_type": "code",
   "execution_count": null,
   "metadata": {},
   "outputs": [],
   "source": [
    "len(clusters)"
   ]
  },
  {
   "cell_type": "code",
   "execution_count": null,
   "metadata": {},
   "outputs": [],
   "source": [
    "clusters.keys()"
   ]
  },
  {
   "cell_type": "code",
   "execution_count": null,
   "metadata": {},
   "outputs": [],
   "source": [
    "import json"
   ]
  },
  {
   "cell_type": "code",
   "execution_count": null,
   "metadata": {},
   "outputs": [],
   "source": [
    "with open(\"id_dict.json\", 'w') as f:\n",
    "    json.dump(list(id_dict.keys()), f)"
   ]
  },
  {
   "cell_type": "code",
   "execution_count": null,
   "metadata": {},
   "outputs": [],
   "source": [
    "with open(\"pairs.json\", 'w') as f:\n",
    "    json.dump(pairs, f)"
   ]
  },
  {
   "cell_type": "code",
   "execution_count": null,
   "metadata": {},
   "outputs": [],
   "source": [
    "import numpy as np\n",
    "sorted_cluster_ids = np.sort(np.array(list(id_dict.keys())))"
   ]
  },
  {
   "cell_type": "markdown",
   "metadata": {},
   "source": [
    "# sort pairs"
   ]
  },
  {
   "cell_type": "code",
   "execution_count": null,
   "metadata": {},
   "outputs": [],
   "source": [
    "pair_array = np.array(pairs)"
   ]
  },
  {
   "cell_type": "code",
   "execution_count": null,
   "metadata": {},
   "outputs": [],
   "source": [
    "heights_array = np.array(heights)"
   ]
  },
  {
   "cell_type": "markdown",
   "metadata": {},
   "source": [
    "## sort the pairs by the heights"
   ]
  },
  {
   "cell_type": "code",
   "execution_count": null,
   "metadata": {},
   "outputs": [],
   "source": [
    "sorted_pair_array = pair_array[np.argsort(heights_array)]"
   ]
  },
  {
   "cell_type": "code",
   "execution_count": null,
   "metadata": {},
   "outputs": [],
   "source": [
    "merges = [(int(np.where(sorted_cluster_ids == i)[0][0]), int(np.where(sorted_cluster_ids == j)[0][0])) for i, j in sorted_pair_array]"
   ]
  },
  {
   "cell_type": "code",
   "execution_count": null,
   "metadata": {},
   "outputs": [],
   "source": [
    "with open(\"merges.json\", 'w') as f:\n",
    "    json.dump(merges, f)"
   ]
  },
  {
   "cell_type": "code",
   "execution_count": null,
   "metadata": {},
   "outputs": [],
   "source": []
  }
 ],
 "metadata": {
  "kernelspec": {
   "display_name": "Python 3 (ipykernel)",
   "language": "python",
   "name": "python3"
  },
  "language_info": {
   "codemirror_mode": {
    "name": "ipython",
    "version": 3
   },
   "file_extension": ".py",
   "mimetype": "text/x-python",
   "name": "python",
   "nbconvert_exporter": "python",
   "pygments_lexer": "ipython3",
   "version": "3.10.14"
  }
 },
 "nbformat": 4,
 "nbformat_minor": 4
}
