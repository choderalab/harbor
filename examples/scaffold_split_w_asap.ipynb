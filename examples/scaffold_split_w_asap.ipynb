{
 "cells": [
  {
   "cell_type": "markdown",
   "source": [
    "# Imports"
   ],
   "metadata": {
    "collapsed": false
   },
   "id": "bea454011d976b31"
  },
  {
   "cell_type": "code",
   "outputs": [],
   "source": [
    "import pandas as pd\n",
    "from asapdiscovery.data.schema.ligand import Ligand\n",
    "from asapdiscovery.data.readers.molfile import MolFileFactory\n",
    "from rdkit.Chem import Draw, rdMolAlign, rdDepictor\n",
    "from rdkit import Chem\n",
    "\n",
    "from rdkit.Chem.Scaffolds import MurckoScaffold\n",
    "from collections import defaultdict"
   ],
   "metadata": {
    "collapsed": false
   },
   "id": "13f5d5645549a256",
   "execution_count": null
  },
  {
   "cell_type": "code",
   "outputs": [],
   "source": [
    "mff = MolFileFactory(filename=\"../data/combined_2d.sdf\")\n",
    "ligs = mff.load()"
   ],
   "metadata": {
    "collapsed": false
   },
   "id": "62fe26965646098b",
   "execution_count": null
  },
  {
   "cell_type": "code",
   "outputs": [],
   "source": [],
   "metadata": {
    "collapsed": false
   },
   "id": "7123603c27d96625",
   "execution_count": null
  },
  {
   "cell_type": "markdown",
   "source": [
    "# Function Definitions"
   ],
   "metadata": {
    "collapsed": false
   },
   "id": "32b2b26786888207"
  },
  {
   "cell_type": "code",
   "outputs": [],
   "source": [
    "def generate_scaffold(ligand: Ligand, include_chirality=True):\n",
    "    \"\"\"\n",
    "    Compute the Bemis-Murcko scaffold for a SMILES string.\n",
    "    Implementation copied from https://github.com/chemprop/chemprop.\n",
    "\n",
    "    :param mol: A smiles string or an RDKit molecule.\n",
    "    :param include_chirality: Whether to include chirality.\n",
    "    :return:\n",
    "    \"\"\"\n",
    "    mol = ligand.to_rdkit()\n",
    "    scaffold = MurckoScaffold.MurckoScaffoldSmiles(mol=mol, includeChirality=include_chirality)\n",
    "\n",
    "    return scaffold"
   ],
   "metadata": {
    "collapsed": false
   },
   "id": "41fa6c928e8dfa1",
   "execution_count": null
  },
  {
   "cell_type": "code",
   "outputs": [],
   "source": [
    "def split_by_scaffold(ligands):\n",
    "    \"\"\"\n",
    "    Split ligands by scaffold.\n",
    "    \"\"\"\n",
    "    \n",
    "    scaffolds = defaultdict(list)\n",
    "    for ligand in ligands:\n",
    "        scaffold = generate_scaffold(ligand)\n",
    "        scaffolds[scaffold].append(ligand)\n",
    "    scaffold_list = [{\"scaffold\": scaffold, \"ligands\": ligands} for scaffold, ligands in scaffolds.items()]\n",
    "    return sorted(scaffold_list, key=lambda x: len(x[\"ligands\"]), reverse=True)"
   ],
   "metadata": {
    "collapsed": false
   },
   "id": "b5fedcd7ca9fbf69",
   "execution_count": null
  },
  {
   "cell_type": "code",
   "outputs": [],
   "source": [
    "def align_to_scaffold(scaffold: Chem.Mol, mols: list[Chem.Mol]):\n",
    "    rdDepictor.Compute2DCoords(scaffold)\n",
    "    template_match = scaffold.GetSubstructMatch(scaffold)\n",
    "    for mol in mols:\n",
    "        rdDepictor.Compute2DCoords(mol)\n",
    "        query_match = mol.GetSubstructMatch(scaffold)\n",
    "        rdMolAlign.AlignMol(mol, scaffold, atomMap=list(zip(query_match, template_match)))\n",
    "    return scaffold, mols"
   ],
   "metadata": {
    "collapsed": false
   },
   "id": "c897ed88682ac56b",
   "execution_count": null
  },
  {
   "cell_type": "code",
   "outputs": [],
   "source": [
    "def draw_scaffold_cluster(scaffold: str, ligands: list[Ligand], filename: str):\n",
    "    \n",
    "    # Convert to rdkit\n",
    "    rdkitmols = [Chem.RemoveHs(ligand.to_rdkit()) for ligand in ligands]\n",
    "    rdkit_scaffold = Chem.MolFromSmiles(scaffold)\n",
    "    \n",
    "    # Align the molecules to the scaffold\n",
    "    rdkit_scaffold, rdkitmols = align_to_scaffold(rdkit_scaffold, rdkitmols)\n",
    "    \n",
    "    \n",
    "    # Find the atoms to highlight\n",
    "    highlight = [mol.GetSubstructMatch(rdkit_scaffold) for mol in rdkitmols]\n",
    "    \n",
    "    # Set Draw Options\n",
    "    dopts = Draw.rdMolDraw2D.MolDrawOptions()\n",
    "    dopts.setHighlightColour((68/256, 178/256, 212/256))\n",
    "    dopts.highlightBondWidthMultiplier = 16\n",
    "    \n",
    "    # Draw the molecules\n",
    "    img = Draw.MolsToGridImage(rdkitmols, \n",
    "                               molsPerRow=6, \n",
    "                               subImgSize=(200, 200), \n",
    "                               highlightAtomLists=highlight,\n",
    "                               useSVG= True,\n",
    "                               legends = [ligand.compound_name for ligand in ligands],\n",
    "                               drawOptions=dopts)\n",
    "    with open(filename, 'w') as f:\n",
    "        f.write(img.data)"
   ],
   "metadata": {
    "collapsed": false
   },
   "id": "7ecc23a71d01f620",
   "execution_count": null
  },
  {
   "cell_type": "markdown",
   "source": [
    "# Execution"
   ],
   "metadata": {
    "collapsed": false
   },
   "id": "da274520dfdd1501"
  },
  {
   "cell_type": "code",
   "outputs": [],
   "source": [
    "scaffolds = split_by_scaffold(ligs)"
   ],
   "metadata": {
    "collapsed": false
   },
   "id": "112f4c04f9687fd6",
   "execution_count": null
  },
  {
   "cell_type": "code",
   "outputs": [],
   "source": [
    "cluster_labels = []\n",
    "for i, scaffold_dict in enumerate(scaffolds):    \n",
    "    draw_scaffold_cluster(scaffold_dict['scaffold'], scaffold_dict['ligands'], f\"scaffold_{i}.svg\")\n",
    "    for ligand in scaffold_dict['ligands']:\n",
    "        cluster_labels.append({\"Name\": ligand.compound_name, \"Cluster\": i, \"Scaffold_Smiles\": scaffold_dict['scaffold']})"
   ],
   "metadata": {
    "collapsed": false
   },
   "id": "9600257ffa5c7221",
   "execution_count": null
  },
  {
   "cell_type": "markdown",
   "source": [
    "# Save Label Dict"
   ],
   "metadata": {
    "collapsed": false
   },
   "id": "fc88900c5fa6e34d"
  },
  {
   "cell_type": "code",
   "outputs": [],
   "source": [
    "import pandas as pd"
   ],
   "metadata": {
    "collapsed": false
   },
   "id": "d35a484e314ea383",
   "execution_count": null
  },
  {
   "cell_type": "code",
   "outputs": [],
   "source": [
    "cluster_df = pd.DataFrame.from_records(cluster_labels)"
   ],
   "metadata": {
    "collapsed": false
   },
   "id": "30113073fa89de3a",
   "execution_count": null
  },
  {
   "cell_type": "code",
   "outputs": [],
   "source": [
    "cluster_df.to_csv(\"cluster_labels.csv\", index=False)"
   ],
   "metadata": {
    "collapsed": false
   },
   "id": "22935f2378c68a2d",
   "execution_count": null
  },
  {
   "cell_type": "code",
   "outputs": [],
   "source": [],
   "metadata": {
    "collapsed": false
   },
   "id": "510a7e5f49e96883",
   "execution_count": null
  },
  {
   "cell_type": "markdown",
   "source": [
    "# Draw Scaffolds"
   ],
   "metadata": {
    "collapsed": false
   },
   "id": "1999c1a870bbf4aa"
  },
  {
   "cell_type": "code",
   "outputs": [],
   "source": [
    "scaffold_smiles = [Ligand.from_smiles(scaffold_dict['scaffold'], compound_name=f\"Cluster {i} - {len(scaffold_dict['ligands'])} molecules\") for i, scaffold_dict in enumerate(scaffolds)]"
   ],
   "metadata": {
    "collapsed": false
   },
   "id": "349200e34255791a",
   "execution_count": null
  },
  {
   "cell_type": "code",
   "outputs": [],
   "source": [
    "scaffold_rdmols = [Chem.RemoveHs(ligand.to_rdkit()) for ligand in scaffold_smiles]"
   ],
   "metadata": {
    "collapsed": false
   },
   "id": "a23293035b2249c0",
   "execution_count": null
  },
  {
   "cell_type": "code",
   "outputs": [],
   "source": [
    "scaffold_rdmols[:10]"
   ],
   "metadata": {
    "collapsed": false
   },
   "id": "bcadb9e55716ae50",
   "execution_count": null
  },
  {
   "cell_type": "code",
   "outputs": [],
   "source": [
    "# Set Draw Options\n",
    "dopts = Draw.rdMolDraw2D.MolDrawOptions()\n",
    "dopts.setHighlightColour((68/256, 178/256, 212/256))\n",
    "dopts.highlightBondWidthMultiplier = 16"
   ],
   "metadata": {
    "collapsed": false
   },
   "id": "da54359320ae0770",
   "execution_count": null
  },
  {
   "cell_type": "code",
   "outputs": [],
   "source": [
    "from rdkit.Chem import Draw, rdDepictor\n",
    "d2d = Draw.MolDraw2DCairo(350,300)\n",
    "for mol in scaffold_rdmols[:12]:\n",
    "    Draw.MolToImage(mol, size=(200, 200), options=dopts)\n",
    "    rdDepictor.Compute2DCoords(mol)\n",
    "    rdDepictor.StraightenDepiction(mol)\n",
    "    d2d.DrawMolecule(mol)"
   ],
   "metadata": {
    "collapsed": false
   },
   "id": "87017970646c3025",
   "execution_count": null
  },
  {
   "cell_type": "code",
   "outputs": [],
   "source": [
    "img = Draw.MolsToGridImage(scaffold_rdmols[:12], \n",
    "                               molsPerRow=3, \n",
    "                               subImgSize=(200, 200), \n",
    "                               # highlightAtomLists=highlight,\n",
    "                               useSVG= True,\n",
    "                               legends = [ligand.compound_name for ligand in scaffold_smiles[:12]],\n",
    "                               drawOptions=dopts)\n",
    "with open(\"scaffold_images_3x4.svg\", 'w') as f:\n",
    "        f.write(img.data)"
   ],
   "metadata": {
    "collapsed": false
   },
   "id": "e45d981d04f887de",
   "execution_count": null
  },
  {
   "cell_type": "code",
   "outputs": [],
   "source": [
    "img = Draw.MolsToGridImage(scaffold_rdmols[:12], \n",
    "                               molsPerRow=6, \n",
    "                               subImgSize=(200, 200), \n",
    "                               # highlightAtomLists=highlight,\n",
    "                               useSVG= True,\n",
    "                               legends = [ligand.compound_name for ligand in scaffold_smiles[:12]],\n",
    "                               drawOptions=dopts)\n",
    "with open(\"scaffold_images_6x2.svg\", 'w') as f:\n",
    "        f.write(img.data)"
   ],
   "metadata": {
    "collapsed": false
   },
   "id": "cbbf003e8afd114a",
   "execution_count": null
  },
  {
   "cell_type": "code",
   "outputs": [],
   "source": [
    "# Do the same thing for the x-series"
   ],
   "metadata": {
    "collapsed": false
   },
   "id": "73599551a6fab95a",
   "execution_count": null
  },
  {
   "cell_type": "code",
   "outputs": [],
   "source": [],
   "metadata": {
    "collapsed": false
   },
   "id": "94fa1167d9621f98"
  }
 ],
 "metadata": {
  "kernelspec": {
   "display_name": "Python 3",
   "language": "python",
   "name": "python3"
  },
  "language_info": {
   "codemirror_mode": {
    "name": "ipython",
    "version": 2
   },
   "file_extension": ".py",
   "mimetype": "text/x-python",
   "name": "python",
   "nbconvert_exporter": "python",
   "pygments_lexer": "ipython2",
   "version": "2.7.6"
  }
 },
 "nbformat": 4,
 "nbformat_minor": 5
}
