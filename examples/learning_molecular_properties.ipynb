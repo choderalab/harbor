{
 "cells": [
  {
   "cell_type": "markdown",
   "source": [
    "# A Simple Experiment \n",
    "in which we try to predict the difference in molecular weight from a set of features"
   ],
   "metadata": {
    "collapsed": false
   },
   "id": "d4ab031231fea192"
  },
  {
   "cell_type": "code",
   "outputs": [],
   "source": [
    "import rdkit.Chem\n",
    "import sklearn\n",
    "import pandas as pd\n",
    "import numpy as np\n",
    "from pathlib import Path\n",
    "from rdkit import Chem\n",
    "from rdkit.Chem import Descriptors\n",
    "from sklearn import svm, metrics, clone\n",
    "from sklearn.ensemble import RandomForestClassifier\n",
    "from sklearn.neural_network import MLPClassifier\n",
    "from sklearn.model_selection import KFold, train_test_split"
   ],
   "metadata": {
    "collapsed": false
   },
   "id": "9c5f9de3a5bc20e6",
   "execution_count": null
  },
  {
   "cell_type": "markdown",
   "source": [
    "## load the data"
   ],
   "metadata": {
    "collapsed": false
   },
   "id": "a2ec3f767a86184a"
  },
  {
   "cell_type": "code",
   "outputs": [],
   "source": [
    "mol_path = Path(\"/Users/alexpayne/Scientific_Projects/mers-drug-discovery/sars2-retrospective-analysis/mpro_fragalysis-04-01-24_curated_cache/combined_2d.sdf\")"
   ],
   "metadata": {
    "collapsed": false
   },
   "id": "af213db402ea9c6a",
   "execution_count": null
  },
  {
   "cell_type": "code",
   "outputs": [],
   "source": [
    "mols = [mol for mol in Chem.SDMolSupplier(str(mol_path))]"
   ],
   "metadata": {
    "collapsed": false
   },
   "id": "beb83254e6710213",
   "execution_count": null
  },
  {
   "cell_type": "markdown",
   "source": [
    "# Calculate molecular weight"
   ],
   "metadata": {
    "collapsed": false
   },
   "id": "fc9500d0db0f8464"
  },
  {
   "cell_type": "code",
   "outputs": [],
   "source": [
    "mol_weight = [Descriptors.MolWt(mol) for mol in mols]"
   ],
   "metadata": {
    "collapsed": false
   },
   "id": "ef5133c37ba6e420",
   "execution_count": null
  },
  {
   "cell_type": "code",
   "outputs": [],
   "source": [],
   "metadata": {
    "collapsed": false
   },
   "id": "4df1e2c2dd177e2a"
  },
  {
   "cell_type": "markdown",
   "source": [
    "# Training data"
   ],
   "metadata": {
    "collapsed": false
   },
   "id": "8d68bc0deeb655e4"
  },
  {
   "cell_type": "code",
   "outputs": [],
   "source": [
    "mol1 = [mol for mol in mols for _ in mols]\n",
    "weight1 = [weight for weight in mol_weight for _ in mol_weight]\n",
    "mol2 = [mol for _ in mols for mol in mols]\n",
    "weight2 = [weight for _ in mol_weight for weight in mol_weight]"
   ],
   "metadata": {
    "collapsed": false
   },
   "id": "c2dede0c1d2014b2",
   "execution_count": null
  },
  {
   "cell_type": "code",
   "outputs": [],
   "source": [
    "df = pd.DataFrame({\"mol1\": mol1, \"mol2\": mol2, \"weight1\": weight1, \"weight2\": weight2})"
   ],
   "metadata": {
    "collapsed": false
   },
   "id": "843409588ede0e47",
   "execution_count": null
  },
  {
   "cell_type": "code",
   "outputs": [],
   "source": [
    "df[\"weight_diff\"] = np.abs(df[\"weight1\"] - df[\"weight2\"])"
   ],
   "metadata": {
    "collapsed": false
   },
   "id": "47e8af55db336a60",
   "execution_count": null
  },
  {
   "cell_type": "markdown",
   "source": [
    "# methods for extracting features"
   ],
   "metadata": {
    "collapsed": false
   },
   "id": "fb9de306fd8a6b1"
  },
  {
   "cell_type": "code",
   "outputs": [],
   "source": [
    "def mol_to_fp(mol: rdkit.Chem.Mol, method=\"maccs\", n_bits=2048):\n",
    "    from rdkit.Chem import MACCSkeys, rdFingerprintGenerator\n",
    "    \"\"\"\n",
    "    Encode a molecule from a SMILES string into a fingerprint.\n",
    "\n",
    "    Parameters\n",
    "    ----------\n",
    "    smiles : str\n",
    "        The SMILES string defining the molecule.\n",
    "\n",
    "    method : str\n",
    "        The type of fingerprint to use. Default is MACCS keys.\n",
    "\n",
    "    n_bits : int\n",
    "        The length of the fingerprint.\n",
    "\n",
    "    Returns\n",
    "    -------\n",
    "    array\n",
    "        The fingerprint array.\n",
    "\n",
    "    \"\"\"\n",
    "\n",
    "    if method == \"maccs\":\n",
    "        return np.array(MACCSkeys.GenMACCSKeys(mol))\n",
    "    if method == \"morgan2\":\n",
    "        fpg = rdFingerprintGenerator.GetMorganGenerator(radius=2, fpSize=n_bits)\n",
    "        return np.array(fpg.GetFingerprint(mol))\n",
    "    if method == \"morgan3\":\n",
    "        fpg = rdFingerprintGenerator.GetMorganGenerator(radius=3, fpSize=n_bits)\n",
    "        return np.array(fpg.GetFingerprint(mol))\n",
    "    else:\n",
    "        # NBVAL_CHECK_OUTPUT\n",
    "        print(f\"Warning: Wrong method specified: {method}. Default will be used instead.\")\n",
    "        return np.array(MACCSkeys.GenMACCSKeys(mol))"
   ],
   "metadata": {
    "collapsed": false
   },
   "id": "36c5088d6b2f4f5a",
   "execution_count": null
  },
  {
   "cell_type": "code",
   "outputs": [],
   "source": [
    "fps = [mol_to_fp(mol) for mol in mols]"
   ],
   "metadata": {
    "collapsed": false
   },
   "id": "d90c7f7c23f0a4ea",
   "execution_count": null
  },
  {
   "cell_type": "code",
   "outputs": [],
   "source": [
    "df[\"maccs1\"] = [fp for fp in fps for _ in fps]\n",
    "df[\"maccs2\"] = [fp for _ in fps for fp in fps]"
   ],
   "metadata": {
    "collapsed": false
   },
   "id": "b4161ca99e586973",
   "execution_count": null
  },
  {
   "cell_type": "code",
   "outputs": [],
   "source": [
    "ecfp4 = [mol_to_fp(mol, method=\"morgan2\") for mol in mols]"
   ],
   "metadata": {
    "collapsed": false
   },
   "id": "825e3e38e9432c18",
   "execution_count": null
  },
  {
   "cell_type": "code",
   "outputs": [],
   "source": [
    "df[\"morgan2_1\"] = [fp for fp in ecfp4 for _ in ecfp4]\n",
    "df[\"morgan2_2\"] = [fp for _ in ecfp4 for fp in ecfp4]"
   ],
   "metadata": {
    "collapsed": false
   },
   "id": "5bdfc87be27ee848",
   "execution_count": null
  },
  {
   "cell_type": "code",
   "outputs": [],
   "source": [
    "df[\"combined_maccs\"] = df.apply(lambda x: np.concatenate([x[\"maccs1\"], x[\"maccs2\"]]), axis=1)"
   ],
   "metadata": {
    "collapsed": false
   },
   "id": "1700d4f8563817ee",
   "execution_count": null
  },
  {
   "cell_type": "code",
   "outputs": [],
   "source": [
    "df[\"combined_morgan2\"] = df.apply(lambda x: np.concatenate([x[\"morgan2_1\"], x[\"morgan2_2\"]]), axis=1)"
   ],
   "metadata": {
    "collapsed": false
   },
   "id": "770ff2986a50a3d4",
   "execution_count": null
  },
  {
   "cell_type": "code",
   "outputs": [],
   "source": [],
   "metadata": {
    "collapsed": false
   },
   "id": "fbde5ad6ad5ea766"
  },
  {
   "cell_type": "markdown",
   "source": [
    "# Define ML Models"
   ],
   "metadata": {
    "collapsed": false
   },
   "id": "cd6f293e49265d9a"
  },
  {
   "cell_type": "code",
   "outputs": [],
   "source": [
    "# actually we can't use a RF classifier because the thing we're trying to predict is continuous\n",
    "# # Set model parameter for random forest\n",
    "# param = {\n",
    "#     \"n_estimators\": 100,  # number of trees to grows\n",
    "#     \"criterion\": \"entropy\",  # cost function to be optimized for a split\n",
    "# }\n",
    "# model_RF = RandomForestClassifier(**param)"
   ],
   "metadata": {
    "collapsed": false
   },
   "id": "f9b5eedb5a2807aa",
   "execution_count": null
  },
  {
   "cell_type": "code",
   "outputs": [],
   "source": [
    "model_SVR = svm.SVR()"
   ],
   "metadata": {
    "collapsed": false
   },
   "id": "dae5f4540699a125",
   "execution_count": null
  },
  {
   "cell_type": "code",
   "outputs": [],
   "source": [],
   "metadata": {
    "collapsed": false
   },
   "id": "adb40ffee4873b01",
   "execution_count": null
  },
  {
   "cell_type": "markdown",
   "source": [
    "# Train Models"
   ],
   "metadata": {
    "collapsed": false
   },
   "id": "95f93efee402d09b"
  },
  {
   "cell_type": "code",
   "outputs": [],
   "source": [
    "def model_performance(ml_model, test_x, test_y, verbose=True):\n",
    "    \"\"\"\n",
    "    Calculate the performance of a machine learning model on a test set.\n",
    "\n",
    "    Parameters\n",
    "    ----------\n",
    "    ml_model: sklearn model object\n",
    "        The machine learning model to evaluate.\n",
    "    test_x: array\n",
    "        The test set descriptors.\n",
    "    test_y: array\n",
    "        The test set labels.\n",
    "    verbose: bool\n",
    "        Print performance info (default = True)\n",
    "\n",
    "    Returns\n",
    "    -------\n",
    "    tuple:\n",
    "        Accuracy, sensitivity, specificity, auc on test set.\n",
    "\n",
    "    \"\"\"\n",
    "    # Predict the test set\n",
    "    pred_y = ml_model.predict(test_x)\n",
    "\n",
    "    # Calculate the accuracy\n",
    "    accuracy = sklearn.metrics.accuracy_score(test_y, pred_y)\n",
    "\n",
    "    # Calculate the sensitivity\n",
    "    sens = sklearn.metrics.recall_score(test_y, pred_y)\n",
    "\n",
    "    # Calculate the specificity\n",
    "    spec = sklearn.metrics.recall_score(test_y, pred_y, pos_label=0)\n",
    "\n",
    "    # Calculate the AUC\n",
    "    auc = sklearn.metrics.roc_auc_score(test_y, pred_y)\n",
    "\n",
    "    if verbose:\n",
    "        print(f\"Accuracy: {accuracy:.2f}\")\n",
    "        print(f\"Sensitivity: {sens:.2f}\")\n",
    "        print(f\"Specificity: {spec:.2f}\")\n",
    "        print(f\"AUC: {auc:.2f}\")\n",
    "\n",
    "    return accuracy, sens, spec, auc"
   ],
   "metadata": {
    "collapsed": false
   },
   "id": "41a692378f4e8fad",
   "execution_count": null
  },
  {
   "cell_type": "code",
   "outputs": [],
   "source": [],
   "metadata": {
    "collapsed": false
   },
   "id": "857bc4ff9772cdb3",
   "execution_count": null
  },
  {
   "cell_type": "code",
   "outputs": [],
   "source": [
    "def model_training_and_validation(ml_model, name, splits, verbose=True):\n",
    "    \"\"\"\n",
    "    Fit a machine learning model on a random train-test split of the data\n",
    "    and return the performance measures.\n",
    "\n",
    "    Parameters\n",
    "    ----------\n",
    "    ml_model: sklearn model object\n",
    "        The machine learning model to train.\n",
    "    name: str\n",
    "        Name of machine learning algorithm: RF, SVM, ANN\n",
    "    splits: list\n",
    "        List of desciptor and label data: train_x, test_x, train_y, test_y.\n",
    "    verbose: bool\n",
    "        Print performance info (default = True)\n",
    "\n",
    "    Returns\n",
    "    -------\n",
    "    tuple:\n",
    "        Accuracy, sensitivity, specificity, auc on test set.\n",
    "\n",
    "    \"\"\"\n",
    "    train_x, test_x, train_y, test_y = splits\n",
    "\n",
    "    # Fit the model\n",
    "    ml_model.fit(train_x, train_y)\n",
    "\n",
    "    # Calculate model performance results\n",
    "    accuracy, sens, spec, auc = model_performance(ml_model, test_x, test_y, verbose)\n",
    "\n",
    "    return accuracy, sens, spec, auc"
   ],
   "metadata": {
    "collapsed": false
   },
   "id": "edddbc67186d5d37",
   "execution_count": null
  },
  {
   "cell_type": "code",
   "outputs": [],
   "source": [],
   "metadata": {
    "collapsed": false
   },
   "id": "91c572acb6537fdc"
  },
  {
   "cell_type": "markdown",
   "source": [
    "## Train / Test Split"
   ],
   "metadata": {
    "collapsed": false
   },
   "id": "8732e1085067aaa9"
  },
  {
   "cell_type": "code",
   "outputs": [],
   "source": [
    "fingerprint_to_model = df.combined_morgan2.tolist()\n",
    "label_to_model = df.weight_diff.tolist()\n",
    "\n",
    "# Split data randomly in train and test set\n",
    "# note that we use test/train_x for the respective fingerprint splits\n",
    "# and test/train_y for the respective label splits\n",
    "(\n",
    "    static_train_x,\n",
    "    static_test_x,\n",
    "    static_train_y,\n",
    "    static_test_y,\n",
    ") = train_test_split(fingerprint_to_model, label_to_model, test_size=0.8)\n",
    "splits = [static_train_x, static_test_x, static_train_y, static_test_y]\n",
    "# NBVAL_CHECK_OUTPUT\n",
    "print(\"Training data size:\", len(static_train_x))\n",
    "print(\"Test data size:\", len(static_test_x))"
   ],
   "metadata": {
    "collapsed": false,
    "is_executing": true
   },
   "id": "d27b97f5c60c22ce",
   "execution_count": null
  },
  {
   "cell_type": "code",
   "outputs": [],
   "source": [
    "# Fit model on single split\n",
    "performance_measures = model_training_and_validation(model_SVR, \"SVR\", splits)"
   ],
   "metadata": {
    "collapsed": false,
    "is_executing": true
   },
   "id": "2758688e4136ea84",
   "execution_count": null
  },
  {
   "cell_type": "code",
   "outputs": [],
   "source": [],
   "metadata": {
    "collapsed": false
   },
   "id": "b92730abaf7c150d"
  },
  {
   "cell_type": "code",
   "outputs": [],
   "source": [],
   "metadata": {
    "collapsed": false
   },
   "id": "f99e8a1b6bda3e5c"
  },
  {
   "cell_type": "code",
   "outputs": [],
   "source": [],
   "metadata": {
    "collapsed": false
   },
   "id": "ad9b17a1dd403270"
  }
 ],
 "metadata": {
  "kernelspec": {
   "display_name": "Python 3",
   "language": "python",
   "name": "python3"
  },
  "language_info": {
   "codemirror_mode": {
    "name": "ipython",
    "version": 2
   },
   "file_extension": ".py",
   "mimetype": "text/x-python",
   "name": "python",
   "nbconvert_exporter": "python",
   "pygments_lexer": "ipython2",
   "version": "2.7.6"
  }
 },
 "nbformat": 4,
 "nbformat_minor": 5
}
